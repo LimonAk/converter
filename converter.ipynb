{
 "cells": [
  {
   "cell_type": "code",
   "execution_count": null,
   "id": "00162bf4-94ff-40a7-b091-2b8d0d1fd8fc",
   "metadata": {},
   "outputs": [
    {
     "name": "stdout",
     "output_type": "stream",
     "text": [
      "\n",
      "===== Converter Menu =====\n",
      "1. Length Converter\n",
      "2. Temperature Converter\n",
      "3. Currency Converter\n",
      "4. Exit\n"
     ]
    },
    {
     "name": "stdin",
     "output_type": "stream",
     "text": [
      "Choose an option:  2\n"
     ]
    },
    {
     "name": "stdout",
     "output_type": "stream",
     "text": [
      "\n",
      "[Temperature Converter] Options:\n",
      "1. Celsius to Fahrenheit\n",
      "2. Fahrenheit to Celsius\n"
     ]
    },
    {
     "name": "stdin",
     "output_type": "stream",
     "text": [
      "Choose:  2\n",
      "Enter value:  25\n"
     ]
    },
    {
     "name": "stdout",
     "output_type": "stream",
     "text": [
      "25.0°F = -3.89°C\n",
      "\n",
      "===== Converter Menu =====\n",
      "1. Length Converter\n",
      "2. Temperature Converter\n",
      "3. Currency Converter\n",
      "4. Exit\n"
     ]
    }
   ],
   "source": [
    "# Simple Unit and Currency Converter\n",
    "\n",
    "def length_converter():\n",
    "    print(\"\\n[Length Converter] Options:\")\n",
    "    print(\"1. Kilometers to Miles\")\n",
    "    print(\"2. Miles to Kilometers\")\n",
    "    choice = input(\"Choose: \")\n",
    "    val = float(input(\"Enter value: \"))\n",
    "    if choice == \"1\":\n",
    "        print(f\"{val} km = {val * 0.621371:.2f} miles\")\n",
    "    elif choice == \"2\":\n",
    "        print(f\"{val} miles = {val / 0.621371:.2f} km\")\n",
    "    else:\n",
    "        print(\"Invalid choice\")\n",
    "\n",
    "def temperature_converter():\n",
    "    print(\"\\n[Temperature Converter] Options:\")\n",
    "    print(\"1. Celsius to Fahrenheit\")\n",
    "    print(\"2. Fahrenheit to Celsius\")\n",
    "    choice = input(\"Choose: \")\n",
    "    val = float(input(\"Enter value: \"))\n",
    "    if choice == \"1\":\n",
    "        print(f\"{val}°C = {(val * 9/5) + 32:.2f}°F\")\n",
    "    elif choice == \"2\":\n",
    "        print(f\"{val}°F = {(val - 32) * 5/9:.2f}°C\")\n",
    "    else:\n",
    "        print(\"Invalid choice\")\n",
    "\n",
    "def currency_converter():\n",
    "    print(\"\\n[Currency Converter] Options:\")\n",
    "    print(\"1. USD to BDT\")\n",
    "    print(\"2. BDT to USD\")\n",
    "    rate = 117.5  # you can change it or use an API\n",
    "    choice = input(\"Choose: \")\n",
    "    val = float(input(\"Enter amount: \"))\n",
    "    if choice == \"1\":\n",
    "        print(f\"${val} USD = {val * rate:.2f} BDT\")\n",
    "    elif choice == \"2\":\n",
    "        print(f\"{val} BDT = ${val / rate:.2f} USD\")\n",
    "    else:\n",
    "        print(\"Invalid choice\")\n",
    "\n",
    "def main():\n",
    "    while True:\n",
    "        print(\"\\n===== Converter Menu =====\")\n",
    "        print(\"1. Length Converter\")\n",
    "        print(\"2. Temperature Converter\")\n",
    "        print(\"3. Currency Converter\")\n",
    "        print(\"4. Exit\")\n",
    "        option = input(\"Choose an option: \")\n",
    "\n",
    "        if option == \"1\":\n",
    "            length_converter()\n",
    "        elif option == \"2\":\n",
    "            temperature_converter()\n",
    "        elif option == \"3\":\n",
    "            currency_converter()\n",
    "        elif option == \"4\":\n",
    "            print(\"Goodbye!\")\n",
    "            break\n",
    "        else:\n",
    "            print(\"Invalid selection!\")\n",
    "\n",
    "if __name__ == \"__main__\":\n",
    "    main()\n"
   ]
  },
  {
   "cell_type": "code",
   "execution_count": null,
   "id": "7344ed70-dbbb-4f4c-b356-29684b44a55a",
   "metadata": {},
   "outputs": [],
   "source": []
  }
 ],
 "metadata": {
  "kernelspec": {
   "display_name": "Python [conda env:base] *",
   "language": "python",
   "name": "conda-base-py"
  },
  "language_info": {
   "codemirror_mode": {
    "name": "ipython",
    "version": 3
   },
   "file_extension": ".py",
   "mimetype": "text/x-python",
   "name": "python",
   "nbconvert_exporter": "python",
   "pygments_lexer": "ipython3",
   "version": "3.11.13"
  }
 },
 "nbformat": 4,
 "nbformat_minor": 5
}
